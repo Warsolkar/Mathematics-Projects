{
 "cells": [
  {
   "cell_type": "code",
   "execution_count": 17,
   "id": "666ea93f",
   "metadata": {},
   "outputs": [
    {
     "name": "stdout",
     "output_type": "stream",
     "text": [
      "Enter the Numbers(Car No./ Mobile No. etc) to calculate its ultimate sum: 1\n",
      "Conversion into list:  [1]\n",
      "The Final sum is : 1\n"
     ]
    }
   ],
   "source": [
    "\n",
    "import functools\n",
    "number= int(input(\"Enter the Numbers(Car No./ Mobile No. etc) to calculate its ultimate sum: \"))\n",
    "my_str= str(number)\n",
    "list_of_string1=[int(x) for x in my_str]\n",
    "print('Conversion into list: ', list_of_string1)\n",
    "def printing():\n",
    "    print('The Sum of above numbers is: ', my_str, end=', Converted in to following list: ')\n",
    "    print(list_of_string1)\n",
    "sum_str=functools.reduce(lambda a,b: a+b, list_of_string1)\n",
    "if sum_str<=9:\n",
    "    pass\n",
    "else:\n",
    "    if sum_str>9:\n",
    "        while sum_str>9:\n",
    "            my_str=str(sum_str)\n",
    "            list_of_string1=[int(x) for x in my_str]\n",
    "            sum_str=functools.reduce(lambda a,b: a+b,list_of_string1)\n",
    "            printing()\n",
    "    else:\n",
    "        printing()\n",
    "print('The Final sum is :',sum_str)"
   ]
  }
 ],
 "metadata": {
  "kernelspec": {
   "display_name": "Python 3 (ipykernel)",
   "language": "python",
   "name": "python3"
  },
  "language_info": {
   "codemirror_mode": {
    "name": "ipython",
    "version": 3
   },
   "file_extension": ".py",
   "mimetype": "text/x-python",
   "name": "python",
   "nbconvert_exporter": "python",
   "pygments_lexer": "ipython3",
   "version": "3.9.12"
  }
 },
 "nbformat": 4,
 "nbformat_minor": 5
}
