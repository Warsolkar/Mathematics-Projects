{
 "cells": [
  {
   "cell_type": "raw",
   "id": "d415578f",
   "metadata": {},
   "source": []
  },
  {
   "cell_type": "code",
   "execution_count": 10,
   "id": "cbfbda42",
   "metadata": {},
   "outputs": [
    {
     "name": "stdout",
     "output_type": "stream",
     "text": [
      "Enter your Name: fghkjfgh\n",
      "There is not a single vowel present in the given character\n"
     ]
    }
   ],
   "source": [
    "# WAP to identify vowels in the given string\n",
    "str1=str(input('Enter your Name: '))\n",
    "str2=['a','e','i','o','u']\n",
    "list_names_vowel=[]\n",
    "\n",
    "def chk(x): # function to compare all elements in input string with reference string of vowels\n",
    "    if (x in str1):\n",
    "        #a+=1\n",
    "        return True   # Returns true if element in vowel string mathces with input string\n",
    "    else:\n",
    "        return False\n",
    "list_str1=[str(x) for x in str1]\n",
    "filter_1=filter(chk,str2)\n",
    "\n",
    "for s in filter_1:\n",
    "    list_names_vowel.append(s)\n",
    "\n",
    "set_names_vowel=set(list_names_vowel)\n",
    "list_names_vowel=list(set_names_vowel)\n",
    "list_names_vowel.sort()\n",
    "n=0\n",
    "\n",
    "for i in set_names_vowel:\n",
    "    n+=1\n",
    "if n==5:\n",
    "    print('All the following 5 vowels are present in the given character: ',list_names_vowel)\n",
    "    #printer_fun()\n",
    "elif n!=0:\n",
    "    print('Following ',n,' unique Vowels are present in the given character: ',list_names_vowel)\n",
    "    #printer_fun()\n",
    "else:\n",
    "    print('There is not a single vowel present in the given character')"
   ]
  }
 ],
 "metadata": {
  "kernelspec": {
   "display_name": "Python 3 (ipykernel)",
   "language": "python",
   "name": "python3"
  },
  "language_info": {
   "codemirror_mode": {
    "name": "ipython",
    "version": 3
   },
   "file_extension": ".py",
   "mimetype": "text/x-python",
   "name": "python",
   "nbconvert_exporter": "python",
   "pygments_lexer": "ipython3",
   "version": "3.9.12"
  }
 },
 "nbformat": 4,
 "nbformat_minor": 5
}
